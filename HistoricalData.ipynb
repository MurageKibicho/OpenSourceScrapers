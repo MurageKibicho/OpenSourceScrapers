{
 "cells": [
  {
   "cell_type": "code",
   "execution_count": 4,
   "id": "distinguished-robert",
   "metadata": {},
   "outputs": [],
   "source": [
    "from selenium import webdriver\n",
    "from selenium.webdriver.common.keys import Keys\n",
    "from selenium.webdriver.support.ui import WebDriverWait\n",
    "from selenium.webdriver.support import expected_conditions as EC\n",
    "from selenium.webdriver.common.by import By\n",
    "from selenium.common.exceptions import TimeoutException\n",
    "import pandas as pd\n",
    "browser = webdriver.Firefox(executable_path=\"/home/murage/Desktop/bb/Drivers/geckodriver\")\n",
    "website = 'https://www.oddsportal.com/tennis/argentina/atp-cordoba-doubles-2020/results/'\n",
    "browser.get(website)\n",
    "pastTennisMatches = browser.find_elements_by_class_name('name-tat')\n",
    "for tennisMatch in pastTennisMatches:\n",
    "    winningOdds = tennisMatch.find_elements_by_xpath('/html/body/div[1]/div/div[2]/div[6]/div[1]/div/div[1]/div[2]/div[1]/div[7]/table/tbody/tr[7]/td[4]/a')\n",
    "    print(winningOdds[1].text)"
   ]
  },
  {
   "cell_type": "code",
   "execution_count": null,
   "id": "irish-marina",
   "metadata": {},
   "outputs": [],
   "source": []
  }
 ],
 "metadata": {
  "kernelspec": {
   "display_name": "Python 3",
   "language": "python",
   "name": "python3"
  },
  "language_info": {
   "codemirror_mode": {
    "name": "ipython",
    "version": 3
   },
   "file_extension": ".py",
   "mimetype": "text/x-python",
   "name": "python",
   "nbconvert_exporter": "python",
   "pygments_lexer": "ipython3",
   "version": "3.8.5"
  }
 },
 "nbformat": 4,
 "nbformat_minor": 5
}
