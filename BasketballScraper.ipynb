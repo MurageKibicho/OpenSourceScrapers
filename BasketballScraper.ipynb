{
 "cells": [
  {
   "cell_type": "code",
   "execution_count": 4,
   "id": "lesbian-rehabilitation",
   "metadata": {},
   "outputs": [
    {
     "name": "stdout",
     "output_type": "stream",
     "text": [
      "Toronto Raptors\n",
      "Philadelphia 76ers\n",
      "Cleveland Cavaliers\n",
      "Oklahoma City Thunder\n",
      "New York Knicks\n",
      "Minnesota Timberwolves\n",
      "Orlando Magic\n",
      "Detroit Pistons\n",
      "Atlanta Hawks\n",
      "Denver Nuggets\n",
      "LA Clippers\n",
      "Brooklyn Nets\n",
      "Milwaukee Bucks\n",
      "Sacramento Kings\n",
      "BC Zenit Saint Petersburg\n",
      "Olimpia Milano\n",
      "Colombia\n",
      "Venezuela\n",
      "Chile\n",
      "Argentina\n",
      "Lebanon\n",
      "India\n",
      "Bahrain\n",
      "Iraq\n",
      "Sweden\n",
      "Netherlands\n",
      "Belgium\n",
      "Czech Republic\n",
      "Bulgaria\n",
      "Bosnia & Herzegovina\n",
      "France\n",
      "Great Britain\n",
      "Turkey\n",
      "Croatia\n",
      "Denmark\n",
      "Lithuania\n",
      "Latvia\n",
      "Greece\n",
      "Montenegro\n",
      "Germany\n",
      "The Hawks\n",
      "New Zealand Breakers\n",
      "Melbourne United\n",
      "Cairns Taipans\n",
      "Maccabi Tel-Aviv\n",
      "Ironi Naharia\n",
      "Bucheon Keb Hana Bank\n",
      "Incheon Shinhan Bank S-Birds\n"
     ]
    }
   ],
   "source": [
    "from selenium import webdriver\n",
    "from selenium.webdriver.common.keys import Keys\n",
    "from selenium.webdriver.support.ui import WebDriverWait\n",
    "from selenium.webdriver.support import expected_conditions as EC\n",
    "from selenium.webdriver.common.by import By\n",
    "from selenium.common.exceptions import TimeoutException\n",
    "import pandas as pd\n",
    "\n",
    "browser = webdriver.Firefox(executable_path=\"/home/murage/Desktop/bb/Drivers/geckodriver\")\n",
    "website = 'https://odibets.com/'\n",
    "waitTime = 10\n",
    "browser.implicitly_wait(20) \n",
    "browser.get(website)\n",
    "browser.implicitly_wait(20) \n",
    "menuButton = browser.find_element_by_class_name('menu')\n",
    "menuButton.click()\n",
    "browser.implicitly_wait(20) \n",
    "basketBallClass = browser.find_element_by_xpath('/html/body/div/div[1]/div[2]/div/div[3]/ul/li[1]/a/span[1]')\n",
    "basketBallClass.click()\n",
    "upcomingClass = browser.find_element_by_xpath('/html/body/div/div[1]/div[3]/div[2]/div/div[2]/div[1]/div[1]/ul/li[2]/span')\n",
    "upcomingClass.click()\n",
    "allBasketBallMatches = browser.find_elements_by_class_name('l-games-event')\n",
    "\n",
    "for match in allBasketBallMatches:\n",
    "    wo = match.find_elements_by_class_name('m')\n",
    "    w1= match.find_elements_by_class_name('t-i')\n",
    "    #times.append(wo)\n",
    "    print(w1[0].text)\n",
    "    print(w1[1].text)"
   ]
  },
  {
   "cell_type": "code",
   "execution_count": null,
   "id": "champion-found",
   "metadata": {},
   "outputs": [],
   "source": []
  }
 ],
 "metadata": {
  "kernelspec": {
   "display_name": "Python 3",
   "language": "python",
   "name": "python3"
  },
  "language_info": {
   "codemirror_mode": {
    "name": "ipython",
    "version": 3
   },
   "file_extension": ".py",
   "mimetype": "text/x-python",
   "name": "python",
   "nbconvert_exporter": "python",
   "pygments_lexer": "ipython3",
   "version": "3.8.5"
  }
 },
 "nbformat": 4,
 "nbformat_minor": 5
}
